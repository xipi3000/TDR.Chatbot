{
 "cells": [
  {
   "cell_type": "code",
   "execution_count": 1,
   "metadata": {},
   "outputs": [],
   "source": [
    "\n",
    "\n",
    "#install pip chatterbot7\n",
    "\n",
    "#%config IPCompleter.greedy=True\n",
    "\n"
   ]
  },
  {
   "cell_type": "code",
   "execution_count": 2,
   "metadata": {
    "scrolled": true
   },
   "outputs": [
    {
     "name": "stdout",
     "output_type": "stream",
     "text": [
      "pygame 1.9.6\n",
      "Hello from the pygame community. https://www.pygame.org/contribute.html\n"
     ]
    },
    {
     "name": "stderr",
     "output_type": "stream",
     "text": [
      "[nltk_data] Downloading package averaged_perceptron_tagger to\n",
      "[nltk_data]     C:\\Users\\poles\\AppData\\Roaming\\nltk_data...\n",
      "[nltk_data]   Package averaged_perceptron_tagger is already up-to-\n",
      "[nltk_data]       date!\n",
      "[nltk_data] Downloading package stopwords to\n",
      "[nltk_data]     C:\\Users\\poles\\AppData\\Roaming\\nltk_data...\n",
      "[nltk_data]   Package stopwords is already up-to-date!\n"
     ]
    }
   ],
   "source": [
    "import string\n",
    "\n",
    "from time import ctime\n",
    "import time\n",
    "import os\n",
    "\n",
    "import pygame\n",
    "import pyworld as pw\n",
    "from gtts import gTTS\n",
    "from tempfile import TemporaryFile\n",
    "from pygame import mixer\n",
    "\n",
    "\n",
    "from chatterbot import ChatBot\n",
    "from chatterbot.trainers import ChatterBotCorpusTrainer\n",
    "from chatterbot.comparisons import LevenshteinDistance\n",
    "from chatterbot.conversation import Statement\n",
    "from chatterbot.trainers import ListTrainer\n",
    "import logging\n",
    "\n",
    "\n",
    "\n",
    "import socket \n",
    "sock = socket.socket(socket.AF_INET, socket.SOCK_DGRAM)\n",
    "\n",
    "address = (\"192.168.1.39\",60666)\n",
    "addressUnity = (\"192.168.1.39\",60668)\n",
    " \n",
    "sock.bind(address)\n",
    "\n",
    "logging.basicConfig(level=logging.INFO)\n",
    "\n",
    "custom_logger = logging.getLogger(__name__)\n",
    "\n",
    "\n",
    "    \n",
    "\n",
    "chatbot = ChatBot(\n",
    "    'Xipi',\n",
    "    storage_adapter='chatterbot.storage.SQLStorageAdapter',\n",
    "    database='./database.sqlite5',     \n",
    "    input_adapter='chatterbot.input.TerminalAdapter', \n",
    "    output_adapter='chatterbot.output.TerminalAdapter',    \n",
    "    trainer='chatterbot.trainers.ListTrainer',\n",
    "    logic_adapters=[      \n",
    "        {\n",
    "            \"import_path\": \"chatterbot.logic.BestMatch\",\n",
    "            \"statement_comparison_function\": \"chatterbot.comparisons.levenshtein_distance\",   \n",
    "        \n",
    "        }\n",
    "    ],\n",
    "        preprocessors=[\n",
    "        'chatterbot.preprocessors.clean_whitespace'\n",
    "    ],\n",
    "    logger=custom_logger\n",
    ")\n",
    "\n",
    "def VeuIA():            \n",
    "        ficheroMP3='D:\\\\Usuario\\\\Escritorio\\\\audio 23\\\\Assets\\\\_Audio\\\\tts.mp3'\n",
    "        tts.save(ficheroMP3)\n",
    "    \n",
    "\n",
    "    \n",
    "        \n",
    "\n",
    "\n",
    "\n"
   ]
  },
  {
   "cell_type": "code",
   "execution_count": 3,
   "metadata": {
    "scrolled": false
   },
   "outputs": [
    {
     "name": "stdout",
     "output_type": "stream",
     "text": [
      "Training conversations.yml: [####################] 100%\n",
      "Training greetings.yml: [####################] 100%\n",
      "Training trivia.yml: [####################] 100%\n",
      "Training PreguntasYRespuestas.yml: [####################] 100%\n",
      "Training PreguntasYRespuestas2.yml: [####################] 100%\n",
      "hola\n"
     ]
    },
    {
     "name": "stderr",
     "output_type": "stream",
     "text": [
      "INFO:__main__:Beginning search for close text match\n",
      "INFO:__main__:Processing search results\n",
      "INFO:__main__:Similar text found: Hola 1.0\n",
      "INFO:__main__:Using \"Hola\" as a close match to \"hola\" with a confidence of 1.0\n",
      "INFO:__main__:0. Excluding recent repeated response of \"cuales te gustan\"\n",
      "INFO:__main__:1. Excluding recent repeated response of \"Todos\"\n",
      "INFO:__main__:Selecting response from 60 optimal responses.\n",
      "INFO:chatterbot.response_selection:Selecting first response from list of 60 options.\n",
      "INFO:__main__:Response selected. Using \"Hola\"\n",
      "INFO:__main__:BestMatch selected \"Hola\" as a response with a confidence of 1.0\n",
      "INFO:__main__:Adding \"hola\" as a response to \"cuales te gustan\"\n"
     ]
    },
    {
     "name": "stdout",
     "output_type": "stream",
     "text": [
      "\n",
      "Hola\n",
      "\n",
      "\n",
      "vamos a comprar zapatos\n"
     ]
    },
    {
     "name": "stderr",
     "output_type": "stream",
     "text": [
      "INFO:__main__:Beginning search for close text match\n",
      "INFO:__main__:Processing search results\n",
      "INFO:__main__:Similar text found: Vamos a comprar zapatos 1.0\n",
      "INFO:__main__:Using \"Vamos a comprar zapatos\" as a close match to \"vamos a comprar zapatos\" with a confidence of 1.0\n",
      "INFO:__main__:0. Excluding recent repeated response of \"cuales te gustan\"\n",
      "INFO:__main__:1. Excluding recent repeated response of \"Todos\"\n",
      "INFO:__main__:Selecting response from 12 optimal responses.\n",
      "INFO:chatterbot.response_selection:Selecting first response from list of 12 options.\n",
      "INFO:__main__:Response selected. Using \"Vamos\"\n",
      "INFO:__main__:BestMatch selected \"Vamos\" as a response with a confidence of 1.0\n",
      "INFO:__main__:Adding \"vamos a comprar zapatos\" as a response to \"hola\"\n"
     ]
    },
    {
     "name": "stdout",
     "output_type": "stream",
     "text": [
      "\n",
      "Vamos\n",
      "\n",
      "\n",
      "cuales te gustan\n"
     ]
    },
    {
     "name": "stderr",
     "output_type": "stream",
     "text": [
      "INFO:__main__:Beginning search for close text match\n",
      "INFO:__main__:Processing search results\n",
      "INFO:__main__:Similar text found: Cuales te gustan 1.0\n",
      "INFO:__main__:Using \"Cuales te gustan\" as a close match to \"cuales te gustan\" with a confidence of 1.0\n",
      "INFO:__main__:0. Excluding recent repeated response of \"cuales te gustan\"\n",
      "INFO:__main__:1. Excluding recent repeated response of \"Todos\"\n",
      "INFO:__main__:Selecting response from 1 optimal responses.\n",
      "INFO:chatterbot.response_selection:Selecting first response from list of 1 options.\n",
      "INFO:__main__:Response selected. Using \"Los rojos\"\n",
      "INFO:__main__:BestMatch selected \"Los rojos\" as a response with a confidence of 1.0\n",
      "INFO:__main__:Adding \"cuales te gustan\" as a response to \"vamos a comprar zapatos\"\n"
     ]
    },
    {
     "name": "stdout",
     "output_type": "stream",
     "text": [
      "\n",
      "Los rojos\n",
      "\n",
      "\n",
      "cuales te gustan\n"
     ]
    },
    {
     "name": "stderr",
     "output_type": "stream",
     "text": [
      "INFO:__main__:Beginning search for close text match\n",
      "INFO:__main__:Processing search results\n",
      "INFO:__main__:Similar text found: Cuales te gustan 1.0\n",
      "INFO:__main__:Using \"Cuales te gustan\" as a close match to \"cuales te gustan\" with a confidence of 1.0\n",
      "INFO:__main__:0. Excluding recent repeated response of \"cuales te gustan\"\n",
      "INFO:__main__:Selecting response from 13 optimal responses.\n",
      "INFO:chatterbot.response_selection:Selecting first response from list of 13 options.\n",
      "INFO:__main__:Response selected. Using \"Todos\"\n",
      "INFO:__main__:BestMatch selected \"Todos\" as a response with a confidence of 1.0\n",
      "INFO:__main__:Adding \"cuales te gustan\" as a response to \"cuales te gustan\"\n"
     ]
    },
    {
     "name": "stdout",
     "output_type": "stream",
     "text": [
      "\n",
      "Todos\n",
      "\n",
      "\n",
      "quieres probarte los\n"
     ]
    },
    {
     "name": "stderr",
     "output_type": "stream",
     "text": [
      "INFO:__main__:Beginning search for close text match\n",
      "INFO:__main__:Processing search results\n",
      "INFO:__main__:Similar text found: Quieres probartelos 0.97\n",
      "INFO:__main__:Using \"Quieres probartelos\" as a close match to \"quieres probarte los\" with a confidence of 0.97\n",
      "INFO:__main__:0. Excluding recent repeated response of \"cuales te gustan\"\n",
      "INFO:__main__:Selecting response from 12 optimal responses.\n",
      "INFO:chatterbot.response_selection:Selecting first response from list of 12 options.\n",
      "INFO:__main__:Response selected. Using \"Si porfavor\"\n",
      "INFO:__main__:BestMatch selected \"Si porfavor\" as a response with a confidence of 0.97\n",
      "INFO:__main__:Adding \"quieres probarte los\" as a response to \"cuales te gustan\"\n"
     ]
    },
    {
     "name": "stdout",
     "output_type": "stream",
     "text": [
      "\n",
      "Si porfavor\n",
      "\n",
      "\n",
      "perfecto\n"
     ]
    },
    {
     "name": "stderr",
     "output_type": "stream",
     "text": [
      "INFO:__main__:Beginning search for close text match\n",
      "INFO:__main__:Processing search results\n",
      "INFO:__main__:Similar text found: Si son perfectos 0.67\n",
      "INFO:__main__:Similar text found: perfecto 1.0\n",
      "INFO:__main__:Using \"perfecto\" as a close match to \"perfecto\" with a confidence of 1.0\n",
      "INFO:__main__:No responses found. Generating alternate response list.\n",
      "INFO:__main__:No known response to the input was found. Selecting a random response.\n",
      "INFO:__main__:BestMatch selected \"como te llamas\" as a response with a confidence of 0\n",
      "INFO:__main__:Adding \"perfecto\" as a response to \"quieres probarte los\"\n"
     ]
    },
    {
     "name": "stdout",
     "output_type": "stream",
     "text": [
      "\n",
      "como te llamas\n",
      "\n",
      "\n",
      "no te entiendo\n"
     ]
    },
    {
     "name": "stderr",
     "output_type": "stream",
     "text": [
      "INFO:__main__:Beginning search for close text match\n",
      "INFO:__main__:Processing search results\n",
      "INFO:__main__:Similar text found: no te entiendo 1.0\n",
      "INFO:__main__:Using \"no te entiendo\" as a close match to \"no te entiendo\" with a confidence of 1.0\n",
      "INFO:__main__:No responses found. Generating alternate response list.\n",
      "INFO:__main__:No known response to the input was found. Selecting a random response.\n",
      "INFO:__main__:BestMatch selected \"¿Quién eres tú?\" as a response with a confidence of 0\n",
      "INFO:__main__:Adding \"no te entiendo\" as a response to \"perfecto\"\n"
     ]
    },
    {
     "name": "stdout",
     "output_type": "stream",
     "text": [
      "¿Qué debería haber dicho?\n",
      "List Trainer: [####################] 100%\n",
      "He aprendibdo que cuando digas perfecto debo responder los compramos\n",
      "quieres probarte los\n"
     ]
    },
    {
     "name": "stderr",
     "output_type": "stream",
     "text": [
      "INFO:__main__:Beginning search for close text match\n",
      "INFO:__main__:Processing search results\n",
      "INFO:__main__:Similar text found: Quieres probartelos 0.97\n",
      "INFO:__main__:Similar text found: quieres probarte los 1.0\n",
      "INFO:__main__:Using \"quieres probarte los\" as a close match to \"quieres probarte los\" with a confidence of 1.0\n",
      "INFO:__main__:No responses found. Generating alternate response list.\n",
      "INFO:__main__:No known response to the input was found. Selecting a random response.\n",
      "INFO:__main__:BestMatch selected \"t\" as a response with a confidence of 0\n",
      "INFO:__main__:Adding \"quieres probarte los\" as a response to \"no te entiendo\"\n"
     ]
    },
    {
     "name": "stdout",
     "output_type": "stream",
     "text": [
      "\n",
      "t\n",
      "\n",
      "\n",
      "quieres\n"
     ]
    },
    {
     "name": "stderr",
     "output_type": "stream",
     "text": [
      "INFO:__main__:Beginning search for close text match\n",
      "INFO:__main__:Processing search results\n",
      "INFO:__main__:Similar text found: ¿Qué quieres saber? 0.54\n",
      "INFO:__main__:Using \"¿Qué quieres saber?\" as a close match to \"quieres\" with a confidence of 0.54\n",
      "INFO:__main__:Selecting response from 12 optimal responses.\n",
      "INFO:chatterbot.response_selection:Selecting first response from list of 12 options.\n",
      "INFO:__main__:Response selected. Using \"Eres un robot?\"\n",
      "INFO:__main__:BestMatch selected \"Eres un robot?\" as a response with a confidence of 0.54\n",
      "INFO:__main__:Adding \"quieres\" as a response to \"quieres probarte los\"\n"
     ]
    },
    {
     "name": "stdout",
     "output_type": "stream",
     "text": [
      "\n",
      "Eres un robot?\n",
      "\n",
      "\n",
      "quieres\n"
     ]
    },
    {
     "name": "stderr",
     "output_type": "stream",
     "text": [
      "INFO:__main__:Beginning search for close text match\n",
      "INFO:__main__:Processing search results\n",
      "INFO:__main__:Similar text found: ¿Qué quieres saber? 0.54\n",
      "INFO:__main__:Similar text found: quieres 1.0\n",
      "INFO:__main__:Using \"quieres\" as a close match to \"quieres\" with a confidence of 1.0\n",
      "INFO:__main__:No responses found. Generating alternate response list.\n",
      "INFO:__main__:No known response to the input was found. Selecting a random response.\n",
      "INFO:__main__:BestMatch selected \"Muy bien, gracias.\" as a response with a confidence of 0\n",
      "INFO:__main__:Adding \"quieres\" as a response to \"quieres\"\n"
     ]
    },
    {
     "name": "stdout",
     "output_type": "stream",
     "text": [
      "\n",
      "Muy bien, gracias.\n",
      "\n",
      "\n",
      "como te llamas\n"
     ]
    },
    {
     "name": "stderr",
     "output_type": "stream",
     "text": [
      "INFO:__main__:Beginning search for close text match\n",
      "INFO:__main__:Processing search results\n",
      "INFO:__main__:Similar text found: Parece que te es familiar el Zen de Python 0.29\n",
      "INFO:__main__:Similar text found: ¿Qué idiomas te gusta usar? 0.39\n",
      "INFO:__main__:Similar text found: como te llamas 1.0\n",
      "INFO:__main__:Using \"como te llamas\" as a close match to \"como te llamas\" with a confidence of 1.0\n",
      "INFO:__main__:Selecting response from 12 optimal responses.\n",
      "INFO:chatterbot.response_selection:Selecting first response from list of 12 options.\n",
      "INFO:__main__:Response selected. Using \"Uaramao\"\n",
      "INFO:__main__:BestMatch selected \"Uaramao\" as a response with a confidence of 1.0\n",
      "INFO:__main__:Adding \"como te llamas\" as a response to \"quieres\"\n"
     ]
    },
    {
     "name": "stdout",
     "output_type": "stream",
     "text": [
      "\n",
      "Uaramao\n",
      "\n",
      "\n",
      "que nombre mas bonito\n"
     ]
    },
    {
     "name": "stderr",
     "output_type": "stream",
     "text": [
      "INFO:__main__:Beginning search for close text match\n",
      "INFO:__main__:Processing search results\n",
      "INFO:__main__:Similar text found: ¿Cuál fue el nombre del primer satélite artificial de la Tierra? 0.33\n",
      "INFO:__main__:Similar text found: cual es tu nombre 0.47\n",
      "INFO:__main__:Using \"¿Cuál fue el nombre del primer satélite artificial de la Tierra?\" as a close match to \"que nombre mas bonito\" with a confidence of 0.33\n",
      "INFO:__main__:Selecting response from 12 optimal responses.\n",
      "INFO:chatterbot.response_selection:Selecting first response from list of 12 options.\n",
      "INFO:__main__:Response selected. Using \"Sputnik 1\"\n",
      "INFO:__main__:BestMatch selected \"Sputnik 1\" as a response with a confidence of 0.33\n",
      "INFO:__main__:Adding \"que nombre mas bonito\" as a response to \"como te llamas\"\n"
     ]
    },
    {
     "name": "stdout",
     "output_type": "stream",
     "text": [
      "\n",
      "Sputnik 1\n",
      "\n",
      "\n",
      "no te entiendo\n"
     ]
    },
    {
     "name": "stderr",
     "output_type": "stream",
     "text": [
      "INFO:__main__:Beginning search for close text match\n",
      "INFO:__main__:Processing search results\n",
      "INFO:__main__:Similar text found: no te entiendo 1.0\n",
      "INFO:__main__:Using \"no te entiendo\" as a close match to \"no te entiendo\" with a confidence of 1.0\n",
      "INFO:__main__:No responses found. Generating alternate response list.\n",
      "INFO:__main__:No known response to the input was found. Selecting a random response.\n",
      "INFO:__main__:BestMatch selected \"s\" as a response with a confidence of 0\n",
      "INFO:__main__:Adding \"no te entiendo\" as a response to \"que nombre mas bonito\"\n"
     ]
    },
    {
     "name": "stdout",
     "output_type": "stream",
     "text": [
      "¿Qué debería haber dicho?\n",
      "List Trainer: [####################] 100%\n",
      "He aprendibdo que cuando digas que nombre mas bonito debo responder si me encanta es perfecto\n",
      "que nombre mas bonito\n"
     ]
    },
    {
     "name": "stderr",
     "output_type": "stream",
     "text": [
      "INFO:__main__:Beginning search for close text match\n",
      "INFO:__main__:Processing search results\n",
      "INFO:__main__:Similar text found: ¿Cuál fue el nombre del primer satélite artificial de la Tierra? 0.33\n",
      "INFO:__main__:Similar text found: cual es tu nombre 0.47\n",
      "INFO:__main__:Similar text found: que nombre mas bonito 1.0\n",
      "INFO:__main__:Using \"que nombre mas bonito\" as a close match to \"que nombre mas bonito\" with a confidence of 1.0\n",
      "INFO:__main__:Selecting response from 1 optimal responses.\n",
      "INFO:chatterbot.response_selection:Selecting first response from list of 1 options.\n",
      "INFO:__main__:Response selected. Using \"si me encanta es perfecto\"\n",
      "INFO:__main__:BestMatch selected \"si me encanta es perfecto\" as a response with a confidence of 1.0\n",
      "INFO:__main__:Adding \"que nombre mas bonito\" as a response to \"no te entiendo\"\n"
     ]
    },
    {
     "name": "stdout",
     "output_type": "stream",
     "text": [
      "\n",
      "si me encanta es perfecto\n",
      "\n",
      "\n",
      "quien te creo\n"
     ]
    },
    {
     "name": "stderr",
     "output_type": "stream",
     "text": [
      "INFO:__main__:Beginning search for close text match\n",
      "INFO:__main__:Processing search results\n",
      "INFO:__main__:Similar text found: Parece que te es familiar el Zen de Python 0.36\n",
      "INFO:__main__:Similar text found: ¿Qué idiomas te gusta usar? 0.4\n",
      "INFO:__main__:Similar text found: que comida te gusta cocinar 0.45\n",
      "INFO:__main__:Using \"Parece que te es familiar el Zen de Python\" as a close match to \"quien te creo\" with a confidence of 0.36\n",
      "INFO:__main__:Selecting response from 12 optimal responses.\n",
      "INFO:chatterbot.response_selection:Selecting first response from list of 12 options.\n",
      "INFO:__main__:Response selected. Using \"Si.\"\n",
      "INFO:__main__:BestMatch selected \"Si.\" as a response with a confidence of 0.36\n",
      "INFO:__main__:Adding \"quien te creo\" as a response to \"que nombre mas bonito\"\n"
     ]
    },
    {
     "name": "stdout",
     "output_type": "stream",
     "text": [
      "\n",
      "Si.\n",
      "\n",
      "\n",
      "ya te entiendo\n"
     ]
    },
    {
     "name": "stderr",
     "output_type": "stream",
     "text": [
      "INFO:__main__:Beginning search for close text match\n",
      "INFO:__main__:Processing search results\n",
      "INFO:__main__:Similar text found: Parece que te es familiar el Zen de Python 0.39\n",
      "INFO:__main__:Similar text found: no te entiendo 0.86\n",
      "INFO:__main__:Using \"Parece que te es familiar el Zen de Python\" as a close match to \"ya te entiendo\" with a confidence of 0.39\n",
      "INFO:__main__:Selecting response from 12 optimal responses.\n",
      "INFO:chatterbot.response_selection:Selecting first response from list of 12 options.\n",
      "INFO:__main__:Response selected. Using \"Si.\"\n",
      "INFO:__main__:BestMatch selected \"Si.\" as a response with a confidence of 0.39\n",
      "INFO:__main__:Adding \"ya te entiendo\" as a response to \"quien te creo\"\n"
     ]
    },
    {
     "name": "stdout",
     "output_type": "stream",
     "text": [
      "\n",
      "Si.\n",
      "\n",
      "\n",
      "quien te creo\n"
     ]
    },
    {
     "name": "stderr",
     "output_type": "stream",
     "text": [
      "INFO:__main__:Beginning search for close text match\n",
      "INFO:__main__:Processing search results\n",
      "INFO:__main__:Similar text found: Parece que te es familiar el Zen de Python 0.36\n",
      "INFO:__main__:Similar text found: ¿Qué idiomas te gusta usar? 0.4\n",
      "INFO:__main__:Similar text found: que comida te gusta cocinar 0.45\n",
      "INFO:__main__:Similar text found: quien te creo 1.0\n",
      "INFO:__main__:Using \"quien te creo\" as a close match to \"quien te creo\" with a confidence of 1.0\n",
      "INFO:__main__:No responses found. Generating alternate response list.\n",
      "INFO:__main__:No known response to the input was found. Selecting a random response.\n",
      "INFO:__main__:BestMatch selected \"Simple es mejor que complejo.\" as a response with a confidence of 0\n",
      "INFO:__main__:Adding \"quien te creo\" as a response to \"ya te entiendo\"\n"
     ]
    },
    {
     "name": "stdout",
     "output_type": "stream",
     "text": [
      "\n",
      "Simple es mejor que complejo.\n",
      "\n",
      "\n",
      "no te entiendo\n"
     ]
    },
    {
     "name": "stderr",
     "output_type": "stream",
     "text": [
      "INFO:__main__:Beginning search for close text match\n",
      "INFO:__main__:Processing search results\n",
      "INFO:__main__:Similar text found: no te entiendo 1.0\n",
      "INFO:__main__:Using \"no te entiendo\" as a close match to \"no te entiendo\" with a confidence of 1.0\n",
      "INFO:__main__:No responses found. Generating alternate response list.\n",
      "INFO:__main__:No known response to the input was found. Selecting a random response.\n",
      "INFO:__main__:BestMatch selected \"e\" as a response with a confidence of 0\n",
      "INFO:__main__:Adding \"no te entiendo\" as a response to \"quien te creo\"\n"
     ]
    },
    {
     "name": "stdout",
     "output_type": "stream",
     "text": [
      "¿Qué debería haber dicho?\n",
      "List Trainer: [####################] 100%\n",
      "He aprendibdo que cuando digas quien te creo debo responder Chipi 3000\n",
      "que quieres hacer\n"
     ]
    },
    {
     "name": "stderr",
     "output_type": "stream",
     "text": [
      "INFO:__main__:Beginning search for close text match\n",
      "INFO:__main__:Processing search results\n",
      "INFO:__main__:Similar text found: ¿Qué es lo que quieres saber? 0.65\n",
      "INFO:__main__:Similar text found: que pelicula quieres ver 0.68\n",
      "INFO:__main__:Similar text found: perfecto que quieres hacer 0.79\n",
      "INFO:__main__:Using \"¿Qué es lo que quieres saber?\" as a close match to \"que quieres hacer\" with a confidence of 0.65\n",
      "INFO:__main__:Selecting response from 12 optimal responses.\n",
      "INFO:chatterbot.response_selection:Selecting first response from list of 12 options.\n",
      "INFO:__main__:Response selected. Using \"¿Cómo funcionas?\"\n",
      "INFO:__main__:BestMatch selected \"¿Cómo funcionas?\" as a response with a confidence of 0.65\n",
      "INFO:__main__:Adding \"que quieres hacer\" as a response to \"no te entiendo\"\n"
     ]
    },
    {
     "name": "stdout",
     "output_type": "stream",
     "text": [
      "\n",
      "¿Cómo funcionas?\n",
      "\n",
      "\n",
      "no te entiendo\n"
     ]
    },
    {
     "name": "stderr",
     "output_type": "stream",
     "text": [
      "INFO:__main__:Beginning search for close text match\n",
      "INFO:__main__:Processing search results\n",
      "INFO:__main__:Similar text found: no te entiendo 1.0\n",
      "INFO:__main__:Using \"no te entiendo\" as a close match to \"no te entiendo\" with a confidence of 1.0\n",
      "INFO:__main__:No responses found. Generating alternate response list.\n",
      "INFO:__main__:No known response to the input was found. Selecting a random response.\n",
      "INFO:__main__:BestMatch selected \"Uramao\" as a response with a confidence of 0\n",
      "INFO:__main__:Adding \"no te entiendo\" as a response to \"que quieres hacer\"\n"
     ]
    },
    {
     "name": "stdout",
     "output_type": "stream",
     "text": [
      "¿Qué debería haber dicho?\n",
      "List Trainer: [####################] 100%\n",
      "He aprendibdo que cuando digas que quieres hacer debo responder me apetece ir de compras\n",
      "que quieres hacer\n"
     ]
    },
    {
     "name": "stderr",
     "output_type": "stream",
     "text": [
      "INFO:__main__:Beginning search for close text match\n",
      "INFO:__main__:Processing search results\n",
      "INFO:__main__:Similar text found: ¿Qué es lo que quieres saber? 0.65\n",
      "INFO:__main__:Similar text found: que pelicula quieres ver 0.68\n",
      "INFO:__main__:Similar text found: perfecto que quieres hacer 0.79\n",
      "INFO:__main__:Similar text found: que quieres hacer 1.0\n",
      "INFO:__main__:Using \"que quieres hacer\" as a close match to \"que quieres hacer\" with a confidence of 1.0\n",
      "INFO:__main__:Selecting response from 1 optimal responses.\n",
      "INFO:chatterbot.response_selection:Selecting first response from list of 1 options.\n",
      "INFO:__main__:Response selected. Using \"me apetece ir de compras\"\n",
      "INFO:__main__:BestMatch selected \"me apetece ir de compras\" as a response with a confidence of 1.0\n",
      "INFO:__main__:Adding \"que quieres hacer\" as a response to \"no te entiendo\"\n"
     ]
    },
    {
     "name": "stdout",
     "output_type": "stream",
     "text": [
      "\n",
      "me apetece ir de compras\n",
      "\n",
      "\n",
      "uy a mi tambien\n"
     ]
    },
    {
     "name": "stderr",
     "output_type": "stream",
     "text": [
      "INFO:__main__:Beginning search for close text match\n",
      "INFO:__main__:Processing search results\n",
      "INFO:__main__:Using \"uy a mi tambien\" as a close match to \"uy a mi tambien\" with a confidence of 0\n",
      "INFO:__main__:No responses found. Generating alternate response list.\n",
      "INFO:__main__:No known response to the input was found. Selecting a random response.\n",
      "INFO:__main__:BestMatch selected \"Nada interesante, ¿y tú que cuentas?\" as a response with a confidence of 0\n",
      "INFO:__main__:Adding \"uy a mi tambien\" as a response to \"que quieres hacer\"\n"
     ]
    },
    {
     "name": "stdout",
     "output_type": "stream",
     "text": [
      "\n",
      "Nada interesante, ¿y tú que cuentas?\n",
      "\n",
      "\n",
      "no te entiendo\n"
     ]
    },
    {
     "name": "stderr",
     "output_type": "stream",
     "text": [
      "INFO:__main__:Beginning search for close text match\n",
      "INFO:__main__:Processing search results\n",
      "INFO:__main__:Similar text found: no te entiendo 1.0\n",
      "INFO:__main__:Using \"no te entiendo\" as a close match to \"no te entiendo\" with a confidence of 1.0\n",
      "INFO:__main__:No responses found. Generating alternate response list.\n",
      "INFO:__main__:No known response to the input was found. Selecting a random response.\n",
      "INFO:__main__:BestMatch selected \"Los rojos\" as a response with a confidence of 0\n",
      "INFO:__main__:Adding \"no te entiendo\" as a response to \"uy a mi tambien\"\n"
     ]
    },
    {
     "name": "stdout",
     "output_type": "stream",
     "text": [
      "¿Qué debería haber dicho?\n",
      "List Trainer: [####################] 100%\n",
      "He aprendibdo que cuando digas uy a mi tambien debo responder pues que quieres comprar\n",
      "quiero ir a comprar zapatos\n"
     ]
    },
    {
     "name": "stderr",
     "output_type": "stream",
     "text": [
      "INFO:__main__:Beginning search for close text match\n",
      "INFO:__main__:Processing search results\n",
      "INFO:__main__:Similar text found: Normal, pero podría irme mejor. 0.31\n",
      "INFO:__main__:Similar text found: Vamos a comprar zapatos 0.76\n",
      "INFO:__main__:Using \"Normal, pero podría irme mejor.\" as a close match to \"quiero ir a comprar zapatos\" with a confidence of 0.31\n",
      "INFO:__main__:No responses found. Generating alternate response list.\n",
      "INFO:__main__:No known response to the input was found. Selecting a random response.\n",
      "INFO:__main__:BestMatch selected \"r\" as a response with a confidence of 0\n",
      "INFO:__main__:Adding \"quiero ir a comprar zapatos\" as a response to \"no te entiendo\"\n"
     ]
    },
    {
     "name": "stdout",
     "output_type": "stream",
     "text": [
      "\n",
      "r\n",
      "\n",
      "\n",
      "no te entiendo\n"
     ]
    },
    {
     "name": "stderr",
     "output_type": "stream",
     "text": [
      "INFO:__main__:Beginning search for close text match\n",
      "INFO:__main__:Processing search results\n",
      "INFO:__main__:Similar text found: no te entiendo 1.0\n",
      "INFO:__main__:Using \"no te entiendo\" as a close match to \"no te entiendo\" with a confidence of 1.0\n",
      "INFO:__main__:No responses found. Generating alternate response list.\n",
      "INFO:__main__:No known response to the input was found. Selecting a random response.\n",
      "INFO:__main__:BestMatch selected \"Gracias de todas formas.\" as a response with a confidence of 0\n",
      "INFO:__main__:Adding \"no te entiendo\" as a response to \"quiero ir a comprar zapatos\"\n"
     ]
    },
    {
     "name": "stdout",
     "output_type": "stream",
     "text": [
      "¿Qué debería haber dicho?\n",
      "List Trainer: [####################] 100%\n",
      "He aprendibdo que cuando digas quiero ir a comprar zapatos debo responder despues de ti\n",
      "cuales te gustan\n"
     ]
    },
    {
     "name": "stderr",
     "output_type": "stream",
     "text": [
      "INFO:__main__:Beginning search for close text match\n",
      "INFO:__main__:Processing search results\n",
      "INFO:__main__:Similar text found: Cuales te gustan 1.0\n",
      "INFO:__main__:Using \"Cuales te gustan\" as a close match to \"cuales te gustan\" with a confidence of 1.0\n",
      "INFO:__main__:Selecting response from 13 optimal responses.\n",
      "INFO:chatterbot.response_selection:Selecting first response from list of 13 options.\n",
      "INFO:__main__:Response selected. Using \"Todos\"\n",
      "INFO:__main__:BestMatch selected \"Todos\" as a response with a confidence of 1.0\n",
      "INFO:__main__:Adding \"cuales te gustan\" as a response to \"no te entiendo\"\n"
     ]
    },
    {
     "name": "stdout",
     "output_type": "stream",
     "text": [
      "\n",
      "Todos\n",
      "\n",
      "\n",
      "pero prefieres los rojos o los azules\n"
     ]
    },
    {
     "name": "stderr",
     "output_type": "stream",
     "text": [
      "INFO:__main__:Beginning search for close text match\n",
      "INFO:__main__:Processing search results\n",
      "INFO:__main__:Using \"pero prefieres los rojos o los azules\" as a close match to \"pero prefieres los rojos o los azules\" with a confidence of 0\n",
      "INFO:__main__:No responses found. Generating alternate response list.\n",
      "INFO:__main__:No known response to the input was found. Selecting a random response.\n",
      "INFO:__main__:BestMatch selected \"Un placer conocerte.\" as a response with a confidence of 0\n",
      "INFO:__main__:Adding \"pero prefieres los rojos o los azules\" as a response to \"cuales te gustan\"\n"
     ]
    },
    {
     "name": "stdout",
     "output_type": "stream",
     "text": [
      "\n",
      "Un placer conocerte.\n",
      "\n",
      "\n",
      "no te entiendo\n"
     ]
    },
    {
     "name": "stderr",
     "output_type": "stream",
     "text": [
      "INFO:__main__:Beginning search for close text match\n",
      "INFO:__main__:Processing search results\n",
      "INFO:__main__:Similar text found: no te entiendo 1.0\n",
      "INFO:__main__:Using \"no te entiendo\" as a close match to \"no te entiendo\" with a confidence of 1.0\n",
      "INFO:__main__:No responses found. Generating alternate response list.\n",
      "INFO:__main__:No known response to the input was found. Selecting a random response.\n",
      "INFO:__main__:BestMatch selected \"¿Quién fue el presidente número 37 de los Estados Unidos\" as a response with a confidence of 0\n",
      "INFO:__main__:Adding \"no te entiendo\" as a response to \"pero prefieres los rojos o los azules\"\n"
     ]
    },
    {
     "name": "stdout",
     "output_type": "stream",
     "text": [
      "¿Qué debería haber dicho?\n",
      "List Trainer: [####################] 100%\n",
      "He aprendibdo que cuando digas pero prefieres los rojos o los azules debo responder los azules me gustan mas\n",
      "quieres suerte nos\n"
     ]
    },
    {
     "name": "stderr",
     "output_type": "stream",
     "text": [
      "INFO:__main__:Beginning search for close text match\n",
      "INFO:__main__:Processing search results\n",
      "INFO:__main__:Using \"quieres suerte nos\" as a close match to \"quieres suerte nos\" with a confidence of 0\n",
      "INFO:__main__:No responses found. Generating alternate response list.\n",
      "INFO:__main__:No known response to the input was found. Selecting a random response.\n",
      "INFO:__main__:BestMatch selected \"Hola\" as a response with a confidence of 0\n",
      "INFO:__main__:Adding \"quieres suerte nos\" as a response to \"no te entiendo\"\n"
     ]
    },
    {
     "name": "stdout",
     "output_type": "stream",
     "text": [
      "\n",
      "Hola\n",
      "\n",
      "\n",
      "quieres probarte los\n"
     ]
    },
    {
     "name": "stderr",
     "output_type": "stream",
     "text": [
      "INFO:__main__:Beginning search for close text match\n",
      "INFO:__main__:Processing search results\n",
      "INFO:__main__:Similar text found: Quieres probartelos 0.97\n",
      "INFO:__main__:Similar text found: quieres probarte los 1.0\n",
      "INFO:__main__:Using \"quieres probarte los\" as a close match to \"quieres probarte los\" with a confidence of 1.0\n",
      "INFO:__main__:No responses found. Generating alternate response list.\n",
      "INFO:__main__:No known response to the input was found. Selecting a random response.\n",
      "INFO:__main__:BestMatch selected \"Tiene muchas inconsistencias.\" as a response with a confidence of 0\n",
      "INFO:__main__:Adding \"quieres probarte los\" as a response to \"quieres suerte nos\"\n"
     ]
    },
    {
     "name": "stdout",
     "output_type": "stream",
     "text": [
      "\n",
      "Tiene muchas inconsistencias.\n",
      "\n",
      "\n",
      "estos te gusta\n"
     ]
    },
    {
     "name": "stderr",
     "output_type": "stream",
     "text": [
      "INFO:__main__:Beginning search for close text match\n",
      "INFO:__main__:Processing search results\n",
      "INFO:__main__:Similar text found: Cuales te gustan 0.73\n",
      "INFO:__main__:Using \"Cuales te gustan\" as a close match to \"estos te gusta\" with a confidence of 0.73\n",
      "INFO:__main__:Selecting response from 13 optimal responses.\n",
      "INFO:chatterbot.response_selection:Selecting first response from list of 13 options.\n",
      "INFO:__main__:Response selected. Using \"Todos\"\n",
      "INFO:__main__:BestMatch selected \"Todos\" as a response with a confidence of 0.73\n",
      "INFO:__main__:Adding \"estos te gusta\" as a response to \"quieres probarte los\"\n"
     ]
    },
    {
     "name": "stdout",
     "output_type": "stream",
     "text": [
      "\n",
      "Todos\n",
      "\n",
      "\n",
      "estos te gustan\n"
     ]
    },
    {
     "name": "stderr",
     "output_type": "stream",
     "text": [
      "INFO:__main__:Beginning search for close text match\n",
      "INFO:__main__:Processing search results\n",
      "INFO:__main__:Similar text found: Cuales te gustan 0.77\n",
      "INFO:__main__:Similar text found: estos te gusta 0.97\n",
      "INFO:__main__:Using \"estos te gusta\" as a close match to \"estos te gustan\" with a confidence of 0.97\n",
      "INFO:__main__:No responses found. Generating alternate response list.\n",
      "INFO:__main__:Selecting response from 13 optimal alternate responses.\n",
      "INFO:chatterbot.response_selection:Selecting first response from list of 13 options.\n",
      "INFO:__main__:Alternate response selected. Using \"Todos\"\n",
      "INFO:__main__:BestMatch selected \"Todos\" as a response with a confidence of 0.97\n",
      "INFO:__main__:Adding \"estos te gustan\" as a response to \"estos te gusta\"\n"
     ]
    },
    {
     "name": "stdout",
     "output_type": "stream",
     "text": [
      "\n",
      "Todos\n",
      "\n",
      "\n",
      "estos te gustan\n"
     ]
    },
    {
     "name": "stderr",
     "output_type": "stream",
     "text": [
      "INFO:__main__:Beginning search for close text match\n",
      "INFO:__main__:Processing search results\n",
      "INFO:__main__:Similar text found: Cuales te gustan 0.77\n",
      "INFO:__main__:Similar text found: estos te gusta 0.97\n",
      "INFO:__main__:Using \"estos te gusta\" as a close match to \"estos te gustan\" with a confidence of 0.97\n",
      "INFO:__main__:No responses found. Generating alternate response list.\n",
      "INFO:__main__:Selecting response from 13 optimal alternate responses.\n",
      "INFO:chatterbot.response_selection:Selecting first response from list of 13 options.\n",
      "INFO:__main__:Alternate response selected. Using \"Todos\"\n",
      "INFO:__main__:BestMatch selected \"Todos\" as a response with a confidence of 0.97\n",
      "INFO:__main__:Adding \"estos te gustan\" as a response to \"estos te gustan\"\n"
     ]
    },
    {
     "name": "stdout",
     "output_type": "stream",
     "text": [
      "\n",
      "Todos\n",
      "\n",
      "\n",
      "pues bueno\n"
     ]
    },
    {
     "name": "stderr",
     "output_type": "stream",
     "text": [
      "INFO:__main__:Beginning search for close text match\n",
      "INFO:__main__:Processing search results\n",
      "INFO:__main__:Using \"pues bueno\" as a close match to \"pues bueno\" with a confidence of 0\n",
      "INFO:__main__:0. Excluding recent repeated response of \"Todos\"\n",
      "INFO:__main__:No responses found. Generating alternate response list.\n",
      "INFO:__main__:No known response to the input was found. Selecting a random response.\n",
      "INFO:__main__:BestMatch selected \"Significa que sólo se vive una vez. ¿Dónde has oído eso?\" as a response with a confidence of 0\n",
      "INFO:__main__:Adding \"pues bueno\" as a response to \"estos te gustan\"\n"
     ]
    },
    {
     "name": "stdout",
     "output_type": "stream",
     "text": [
      "\n",
      "Significa que sólo se vive una vez. ¿Dónde has oído eso?\n",
      "\n",
      "\n",
      "me lo dijeron en clase\n"
     ]
    },
    {
     "name": "stderr",
     "output_type": "stream",
     "text": [
      "INFO:__main__:Beginning search for close text match\n",
      "INFO:__main__:Processing search results\n",
      "INFO:__main__:Using \"me lo dijeron en clase\" as a close match to \"me lo dijeron en clase\" with a confidence of 0\n",
      "INFO:__main__:0. Excluding recent repeated response of \"Todos\"\n",
      "INFO:__main__:No responses found. Generating alternate response list.\n",
      "INFO:__main__:No known response to the input was found. Selecting a random response.\n",
      "INFO:__main__:BestMatch selected \"Si porfavor\" as a response with a confidence of 0\n",
      "INFO:__main__:Adding \"me lo dijeron en clase\" as a response to \"pues bueno\"\n"
     ]
    },
    {
     "name": "stdout",
     "output_type": "stream",
     "text": [
      "\n",
      "Si porfavor\n",
      "\n",
      "\n",
      "quieres ir a clase\n"
     ]
    },
    {
     "name": "stderr",
     "output_type": "stream",
     "text": [
      "INFO:__main__:Beginning search for close text match\n",
      "INFO:__main__:Processing search results\n",
      "INFO:__main__:Using \"quieres ir a clase\" as a close match to \"quieres ir a clase\" with a confidence of 0\n",
      "INFO:__main__:0. Excluding recent repeated response of \"Todos\"\n",
      "INFO:__main__:No responses found. Generating alternate response list.\n",
      "INFO:__main__:No known response to the input was found. Selecting a random response.\n",
      "INFO:__main__:BestMatch selected \"u\" as a response with a confidence of 0\n",
      "INFO:__main__:Adding \"quieres ir a clase\" as a response to \"me lo dijeron en clase\"\n"
     ]
    },
    {
     "name": "stdout",
     "output_type": "stream",
     "text": [
      "\n",
      "u\n",
      "\n",
      "\n",
      "adios\n"
     ]
    },
    {
     "name": "stderr",
     "output_type": "stream",
     "text": [
      "INFO:__main__:Beginning search for close text match\n",
      "INFO:__main__:Processing search results\n",
      "INFO:__main__:Similar text found: Adios 1.0\n",
      "INFO:__main__:Using \"Adios\" as a close match to \"adios\" with a confidence of 1.0\n",
      "INFO:__main__:Selecting response from 12 optimal responses.\n",
      "INFO:chatterbot.response_selection:Selecting first response from list of 12 options.\n",
      "INFO:__main__:Response selected. Using \"Adios\"\n",
      "INFO:__main__:BestMatch selected \"Adios\" as a response with a confidence of 1.0\n",
      "INFO:__main__:Adding \"adios\" as a response to \"quieres ir a clase\"\n"
     ]
    },
    {
     "name": "stdout",
     "output_type": "stream",
     "text": [
      "\n",
      "Adios\n",
      "\n",
      "\n"
     ]
    }
   ],
   "source": [
    "\n",
    "\n",
    "\n",
    "trainer = ChatterBotCorpusTrainer(chatbot)\n",
    "trainer.train('chatterbot.corpus.spanish')\n",
    "trainer.train('./PreguntasYRespuestas.yml')\n",
    "trainer.train('./PreguntasYRespuestas2.yml')\n",
    "trainer2 = ListTrainer(chatbot)\n",
    "#trainer2.train([\n",
    " #   'Cómo estás',\n",
    "#    'Bien',\n",
    " #   'Me alegro',\n",
    "  #  'Gracias',\n",
    "  #  'De nada',\n",
    "  #  'Y tú'])\n",
    "\n",
    "\n",
    "\n",
    "entradaDelUsuario = ''\n",
    "entradaDelUsuarioAnterior=\"\"\n",
    "b = bytes('uara', 'utf-8')\n",
    "\n",
    "\n",
    "while entradaDelUsuario!=\"adios\":\n",
    "    \n",
    "    data,addr = sock.recvfrom(2000000)\n",
    "    \n",
    "    data2 = data.decode(\"utf-8\") \n",
    "    print(data2)\n",
    "    entradaDelUsuario = data2\n",
    "    \n",
    "    respuesta = chatbot.get_response(entradaDelUsuario)\n",
    "\n",
    "    if ('abre' or 'abrirme') and ('Google' or 'chrome') in entradaDelUsuario:\n",
    "        os.system('chrome') \n",
    "\n",
    "        \n",
    "   \n",
    "\n",
    "    #if (('abre' or 'abrirme') and ('Spotify')) or (('ponerme' or 'quiero' or 'poner') and ('musica')) in entradaDelUsuario:\n",
    "        #os.system('spotify')   \n",
    "    \n",
    "\n",
    "    \n",
    "    \n",
    "    if (\"abre\" or \"abrirme\") and \"Youtube\" in entradaDelUsuario:\n",
    "        print (\"Abriendo Youtube\")\n",
    "\n",
    "        os.system('start https://www.youtube.com/?gl=ES&hl=es') \n",
    "    \n",
    "    \n",
    "    if 'busca' and 'google' in entradaDelUsuario:\n",
    "        print(\"Que quieres que busque?\")\n",
    "        tts = gTTS(text=(\"Que quieres que busque\"), lang='es')\n",
    "        VeuIA()\n",
    "        sock.sendto(b, addressUnity)\n",
    "        \n",
    "        \n",
    "        data,addr = sock.recvfrom(2000000)\n",
    "        data3 = data.decode(\"utf-8\")\n",
    "        print(data3)\n",
    "        dataR = data3.replace(' ' , '+') \n",
    "        if data3 == \"\": \n",
    "            data,addr = sock.recvfrom(2000000)\n",
    "            data3 = data.decode(\"utf-8\")\n",
    "            print(data3)\n",
    "            dataR = data3.replace(' ' , '+')\n",
    "        os.system('start https://duckduckgo.com/?q=' + dataR)\n",
    "        \n",
    "        \n",
    "        \n",
    "    \n",
    "    if entradaDelUsuario == ('no te entiendo'):\n",
    "        print('¿Qué debería haber dicho?')\n",
    "        tts = gTTS(text=(\"¿Qué debería haber dicho?\"), lang='es')\n",
    "        VeuIA()\n",
    "        sock.sendto(b, addressUnity)\n",
    "\n",
    "        data,addr = sock.recvfrom(2000000)\n",
    "        data4 = data.decode(\"utf-8\")\n",
    "        entradaDelUsuarioCorreccion = data4\n",
    "        trainer2.train([entradaDelUsuarioAnterior, entradaDelUsuarioCorreccion])\n",
    "        print(\"He aprendibdo que cuando digas \" + entradaDelUsuarioAnterior + \" debo responder \" + entradaDelUsuarioCorreccion)\n",
    "        \n",
    "        \n",
    "        tts = gTTS(text=(\"He aprendiendo que cuando digas \" + entradaDelUsuarioAnterior + \" debo responder \" + entradaDelUsuarioCorreccion), lang='es')\n",
    "        VeuIA()\n",
    "        sock.sendto(b, addressUnity)\n",
    "   \n",
    "    \n",
    "   \n",
    "    #print(statement) #statement contiene el mismo valor que entradaDelUsuario\n",
    "    else:\n",
    "        print(\"\\n%s\\n\\n\" % respuesta)\n",
    "        tts = gTTS(text=(\"\\n%s\\n\\n\" % respuesta), lang='es')\n",
    "        VeuIA()\n",
    "        sock.sendto(b, addressUnity)\n",
    "        \n",
    "    entradaDelUsuarioAnterior = data2\n",
    "    \n",
    "\n",
    "\n"
   ]
  }
 ],
 "metadata": {
  "kernelspec": {
   "display_name": "Python 3",
   "language": "python",
   "name": "python3"
  },
  "language_info": {
   "codemirror_mode": {
    "name": "ipython",
    "version": 3
   },
   "file_extension": ".py",
   "mimetype": "text/x-python",
   "name": "python",
   "nbconvert_exporter": "python",
   "pygments_lexer": "ipython3",
   "version": "3.6.8"
  }
 },
 "nbformat": 4,
 "nbformat_minor": 2
}
